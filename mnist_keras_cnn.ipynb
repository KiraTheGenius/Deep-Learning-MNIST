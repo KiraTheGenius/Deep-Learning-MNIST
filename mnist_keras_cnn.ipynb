{
  "nbformat": 4,
  "nbformat_minor": 0,
  "metadata": {
    "colab": {
      "provenance": []
    },
    "kernelspec": {
      "name": "python3",
      "display_name": "Python 3"
    },
    "language_info": {
      "name": "python"
    }
  },
  "cells": [
    {
      "cell_type": "code",
      "execution_count": 17,
      "metadata": {
        "id": "th79QUJiylWe"
      },
      "outputs": [],
      "source": [
        "from tensorflow import keras\n",
        "import numpy as np\n",
        "import matplotlib.pyplot as plt"
      ]
    },
    {
      "cell_type": "markdown",
      "source": [
        "### Prepare dataset"
      ],
      "metadata": {
        "id": "UjCnngLLMTfa"
      }
    },
    {
      "cell_type": "code",
      "source": [
        "mnist = keras.datasets.mnist\n",
        "(x_train, y_train), (x_test, y_test) = mnist.load_data()\n",
        "\n",
        "x_train, x_test = x_train / 255.0, x_test / 255.0"
      ],
      "metadata": {
        "colab": {
          "base_uri": "https://localhost:8080/"
        },
        "id": "2-za4NfZMbQz",
        "outputId": "c32a4a63-2959-4caa-f95b-f74679077aa0"
      },
      "execution_count": 2,
      "outputs": [
        {
          "output_type": "stream",
          "name": "stdout",
          "text": [
            "Downloading data from https://storage.googleapis.com/tensorflow/tf-keras-datasets/mnist.npz\n",
            "11490434/11490434 [==============================] - 0s 0us/step\n"
          ]
        }
      ]
    },
    {
      "cell_type": "code",
      "source": [
        "model = keras.models.Sequential([\n",
        "    keras.layers.Conv2D(32, kernel_size=5, activation=keras.activations.relu, input_shape=(28, 28, 1)),\n",
        "    keras.layers.MaxPool2D(2, strides=2),\n",
        "    keras.layers.Conv2D(64, kernel_size=3, activation=keras.activations.relu),\n",
        "    keras.layers.MaxPool2D(2, strides =2),\n",
        "    keras.layers.Flatten(),\n",
        "    keras.layers.Dense(1024),\n",
        "    keras.layers.Dropout(0.2),\n",
        "    keras.layers.Dense(2048),\n",
        "    keras.layers.Dropout(0.5),\n",
        "    keras.layers.Dense(10, activation = keras.activations.softmax)\n",
        "])\n",
        "\n",
        "print(model.summary())\n",
        "\n",
        "model.compile(\n",
        "    optimizer=\"adam\",\n",
        "    loss = \"sparse_categorical_crossentropy\", # beacuse output is vector of 10 of possibilites\n",
        "    metrics= [\"accuracy\"]\n",
        ")"
      ],
      "metadata": {
        "colab": {
          "base_uri": "https://localhost:8080/"
        },
        "id": "z1FaA1-QNEHD",
        "outputId": "223998a0-47a4-452b-f40a-1b2511b7b976"
      },
      "execution_count": 11,
      "outputs": [
        {
          "output_type": "stream",
          "name": "stdout",
          "text": [
            "Model: \"sequential_6\"\n",
            "_________________________________________________________________\n",
            " Layer (type)                Output Shape              Param #   \n",
            "=================================================================\n",
            " conv2d_16 (Conv2D)          (None, 24, 24, 32)        832       \n",
            "                                                                 \n",
            " max_pooling2d_15 (MaxPooli  (None, 12, 12, 32)        0         \n",
            " ng2D)                                                           \n",
            "                                                                 \n",
            " conv2d_17 (Conv2D)          (None, 10, 10, 64)        18496     \n",
            "                                                                 \n",
            " max_pooling2d_16 (MaxPooli  (None, 5, 5, 64)          0         \n",
            " ng2D)                                                           \n",
            "                                                                 \n",
            " flatten_15 (Flatten)        (None, 1600)              0         \n",
            "                                                                 \n",
            " dense_19 (Dense)            (None, 1024)              1639424   \n",
            "                                                                 \n",
            " dropout_12 (Dropout)        (None, 1024)              0         \n",
            "                                                                 \n",
            " dense_20 (Dense)            (None, 2048)              2099200   \n",
            "                                                                 \n",
            " dropout_13 (Dropout)        (None, 2048)              0         \n",
            "                                                                 \n",
            " dense_21 (Dense)            (None, 10)                20490     \n",
            "                                                                 \n",
            "=================================================================\n",
            "Total params: 3778442 (14.41 MB)\n",
            "Trainable params: 3778442 (14.41 MB)\n",
            "Non-trainable params: 0 (0.00 Byte)\n",
            "_________________________________________________________________\n",
            "None\n"
          ]
        }
      ]
    },
    {
      "cell_type": "markdown",
      "source": [
        "### Train"
      ],
      "metadata": {
        "id": "aiCISop1SY08"
      }
    },
    {
      "cell_type": "code",
      "source": [
        "model.fit(x_train, y_train , epochs=5, shuffle=True)"
      ],
      "metadata": {
        "colab": {
          "base_uri": "https://localhost:8080/"
        },
        "id": "sZ6hdNsbSaR5",
        "outputId": "51961914-2fb7-458e-9509-eccfd945d42b"
      },
      "execution_count": 13,
      "outputs": [
        {
          "output_type": "stream",
          "name": "stdout",
          "text": [
            "Epoch 1/5\n",
            "1875/1875 [==============================] - 177s 94ms/step - loss: 0.1048 - accuracy: 0.9690\n",
            "Epoch 2/5\n",
            "1875/1875 [==============================] - 177s 95ms/step - loss: 0.0876 - accuracy: 0.9764\n",
            "Epoch 3/5\n",
            "1875/1875 [==============================] - 174s 93ms/step - loss: 0.0793 - accuracy: 0.9797\n",
            "Epoch 4/5\n",
            "1875/1875 [==============================] - 176s 94ms/step - loss: 0.0799 - accuracy: 0.9799\n",
            "Epoch 5/5\n",
            "1875/1875 [==============================] - 178s 95ms/step - loss: 0.0842 - accuracy: 0.9808\n"
          ]
        },
        {
          "output_type": "execute_result",
          "data": {
            "text/plain": [
              "<keras.src.callbacks.History at 0x79d67536e8c0>"
            ]
          },
          "metadata": {},
          "execution_count": 13
        }
      ]
    },
    {
      "cell_type": "markdown",
      "source": [
        "### Model Evaluate"
      ],
      "metadata": {
        "id": "QtL7yt5vV-2z"
      }
    },
    {
      "cell_type": "code",
      "source": [
        "model.evaluate(x_test, y_test, verbose=2)"
      ],
      "metadata": {
        "colab": {
          "base_uri": "https://localhost:8080/"
        },
        "id": "EIoFegQFWCPB",
        "outputId": "c816e23d-366f-42fa-d043-9c8fb4c9f9b6"
      },
      "execution_count": 14,
      "outputs": [
        {
          "output_type": "stream",
          "name": "stdout",
          "text": [
            "313/313 - 5s - loss: 0.0491 - accuracy: 0.9884 - 5s/epoch - 15ms/step\n"
          ]
        },
        {
          "output_type": "execute_result",
          "data": {
            "text/plain": [
              "[0.04911506175994873, 0.9883999824523926]"
            ]
          },
          "metadata": {},
          "execution_count": 14
        }
      ]
    },
    {
      "cell_type": "code",
      "source": [
        "print(\"true label: %d\" % y_test[76])\n",
        "plt.imshow(x_test[76], cmap=\"gray\")\n",
        "\n",
        "predictions = model.predict(np.reshape(x_test[76], [-1, 28,28]))\n",
        "print(\"predicted label: %d\" % np.argmax(predictions))"
      ],
      "metadata": {
        "colab": {
          "base_uri": "https://localhost:8080/",
          "height": 484
        },
        "id": "w5SCJpL44J_j",
        "outputId": "35d7ad7d-91b1-4198-9d48-ae74d965a70c"
      },
      "execution_count": 19,
      "outputs": [
        {
          "output_type": "stream",
          "name": "stdout",
          "text": [
            "true label: 3\n",
            "1/1 [==============================] - 0s 48ms/step\n",
            "predicted label: 3\n"
          ]
        },
        {
          "output_type": "display_data",
          "data": {
            "text/plain": [
              "<Figure size 640x480 with 1 Axes>"
            ],
            "image/png": "[encoded data removed]"
          },
          "metadata": {}
        }
      ]
    }
  ]
}