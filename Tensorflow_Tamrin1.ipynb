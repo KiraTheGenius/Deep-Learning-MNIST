{
  "nbformat": 4,
  "nbformat_minor": 0,
  "metadata": {
    "colab": {
      "provenance": []
    },
    "kernelspec": {
      "name": "python3",
      "display_name": "Python 3"
    },
    "language_info": {
      "name": "python"
    }
  },
  "cells": [
    {
      "cell_type": "markdown",
      "source": [
        "## **Import Part**"
      ],
      "metadata": {
        "id": "sM1IH4a6GFFw"
      }
    },
    {
      "cell_type": "code",
      "execution_count": null,
      "metadata": {
        "id": "1PHjCq96Ff7e"
      },
      "outputs": [],
      "source": [
        "import tensorflow as tf\n",
        "import numpy as np\n",
        "import pandas as pd\n",
        "import matplotlib.pyplot as plt\n",
        "# import tensorflow.keras import Model"
      ]
    },
    {
      "cell_type": "markdown",
      "source": [
        "### Create a Noisy Dataset"
      ],
      "metadata": {
        "id": "GbL4XX9QHgC_"
      }
    },
    {
      "cell_type": "code",
      "source": [
        "def make_noisy_data(m=0.1, b=0.3, n=100):\n",
        "  x = tf.random.uniform(shape=(n,))\n",
        "  noise = tf.random.normal(shape = (len(x),), stddev=0.01)\n",
        "  y= m*x + b + noise\n",
        "  return x, y"
      ],
      "metadata": {
        "id": "HUnmrrG0Hn6g"
      },
      "execution_count": null,
      "outputs": []
    },
    {
      "cell_type": "code",
      "source": [
        "x_train, y_train = make_noisy_data()\n",
        "\n",
        "plt.plot(x_train, y_train, \"b.\")"
      ],
      "metadata": {
        "colab": {
          "base_uri": "https://localhost:8080/",
          "height": 447
        },
        "id": "Lp_9l7GeI8xD",
        "outputId": "b548e99c-9c19-461f-b431-c4c38191b2fb"
      },
      "execution_count": null,
      "outputs": [
        {
          "output_type": "execute_result",
          "data": {
            "text/plain": [
              "[<matplotlib.lines.Line2D at 0x7ca7a6396950>]"
            ]
          },
          "metadata": {},
          "execution_count": 35
        },
        {
          "output_type": "display_data",
          "data": {
            "text/plain": [
              "<Figure size 640x480 with 1 Axes>"
            ],
            "image/png": "[encoded data removed]"
          },
          "metadata": {}
        }
      ]
    },
    {
      "cell_type": "markdown",
      "source": [
        "### Define Variable for Model"
      ],
      "metadata": {
        "id": "BUtfIR2yJXxT"
      }
    },
    {
      "cell_type": "code",
      "source": [
        "m = tf.Variable(0.)\n",
        "b = tf.Variable(0.)"
      ],
      "metadata": {
        "id": "RbMNsVz4JC_A",
        "colab": {
          "base_uri": "https://localhost:8080/"
        },
        "outputId": "e031b49b-36f0-4814-a950-9fa453cb77cc"
      },
      "execution_count": null,
      "outputs": [
        {
          "output_type": "stream",
          "name": "stdout",
          "text": [
            "0.0 0.0\n"
          ]
        }
      ]
    },
    {
      "cell_type": "markdown",
      "source": [
        "### Predict y given x"
      ],
      "metadata": {
        "id": "Lk090KnbJn-q"
      }
    },
    {
      "cell_type": "code",
      "source": [
        "def predict(x):\n",
        "  y = m*x + b\n",
        "  return y"
      ],
      "metadata": {
        "id": "MBQ0fL9rJnRy"
      },
      "execution_count": null,
      "outputs": []
    },
    {
      "cell_type": "markdown",
      "source": [
        "### Loss Function"
      ],
      "metadata": {
        "id": "JUAyJZjuJ7Yx"
      }
    },
    {
      "cell_type": "code",
      "source": [
        "def squared_error(y_pred, y_true):\n",
        "  return tf.reduce_mean(tf.square(y_pred - y_true))"
      ],
      "metadata": {
        "id": "jYoEmR2lJ_d-"
      },
      "execution_count": null,
      "outputs": []
    },
    {
      "cell_type": "markdown",
      "source": [
        "### Calculate Loss before training"
      ],
      "metadata": {
        "id": "2EfATl9EKXHd"
      }
    },
    {
      "cell_type": "code",
      "source": [
        "loss = squared_error(predict(x_train), y_train)\n",
        "print(loss.numpy())"
      ],
      "metadata": {
        "colab": {
          "base_uri": "https://localhost:8080/"
        },
        "id": "itXDxJKuKWkw",
        "outputId": "4aba5338-9dd8-4c74-c2da-d8debb8b0807"
      },
      "execution_count": null,
      "outputs": [
        {
          "output_type": "stream",
          "name": "stdout",
          "text": [
            "0.12342333\n"
          ]
        }
      ]
    },
    {
      "cell_type": "markdown",
      "source": [
        "### Use Gradient Descent"
      ],
      "metadata": {
        "id": "Fb3mqSsmKmVf"
      }
    },
    {
      "cell_type": "code",
      "source": [
        "learning_rate = 0.05\n",
        "steps = 200\n",
        "\n",
        "for i in range(steps):\n",
        "  with tf.GradientTape(watch_accessed_variables=False) as tape:\n",
        "    tape.watch([m,b])\n",
        "    predictions = predict(x_train)\n",
        "    loss = squared_error(predictions, y_train)\n",
        "\n",
        "  gradients = tape.gradient(loss, [m, b])\n",
        "\n",
        "  m.assign_sub(gradients[0] * learning_rate)\n",
        "  b.assign_sub(gradients[1] * learning_rate)\n",
        "\n",
        "  if i%20 == 0:\n",
        "    print(\"step {0}: loss {1}\".format(i, loss))"
      ],
      "metadata": {
        "colab": {
          "base_uri": "https://localhost:8080/"
        },
        "id": "ESWQfaWvKqLH",
        "outputId": "3a387a60-3c36-4e9b-de6f-0edc33a2219e"
      },
      "execution_count": null,
      "outputs": [
        {
          "output_type": "stream",
          "name": "stdout",
          "text": [
            "step 0: loss 0.12342333048582077\n",
            "step 20: loss 0.0007737383712083101\n",
            "step 40: loss 0.0001810179528547451\n",
            "step 60: loss 0.00015519195585511625\n",
            "step 80: loss 0.00013766824849881232\n",
            "step 100: loss 0.0001244792656507343\n",
            "step 120: loss 0.00011454594641691074\n",
            "step 140: loss 0.00010706465400289744\n",
            "step 160: loss 0.0001014301014947705\n",
            "step 180: loss 9.718637738842517e-05\n"
          ]
        }
      ]
    },
    {
      "cell_type": "markdown",
      "source": [
        "### Learned Values for m and b"
      ],
      "metadata": {
        "id": "IKp_m-jXYMm2"
      }
    },
    {
      "cell_type": "code",
      "source": [
        "print(\"Best Parameters Values: m = %f and b = %f\" %(m.numpy(), b.numpy()))"
      ],
      "metadata": {
        "colab": {
          "base_uri": "https://localhost:8080/"
        },
        "id": "eHK1Ul_NYQyF",
        "outputId": "0fa2ee76-d90f-49c0-9b64-3cfaf41a206b"
      },
      "execution_count": null,
      "outputs": [
        {
          "output_type": "stream",
          "name": "stdout",
          "text": [
            "Best Parameters Values: m = 0.113650 and b = 0.293624\n"
          ]
        }
      ]
    },
    {
      "cell_type": "markdown",
      "source": [
        "### Plot Best Line"
      ],
      "metadata": {
        "id": "o9P1fuxpYjYb"
      }
    },
    {
      "cell_type": "code",
      "source": [
        "plt.plot(x_train, y_train, \"r.\")\n",
        "plt.plot(x_train, predict(x_train), \"b.\")"
      ],
      "metadata": {
        "colab": {
          "base_uri": "https://localhost:8080/",
          "height": 447
        },
        "id": "G0BJ95D5YnG6",
        "outputId": "70edee5c-ee5e-4aa1-9ae6-9bfa7fcca317"
      },
      "execution_count": null,
      "outputs": [
        {
          "output_type": "execute_result",
          "data": {
            "text/plain": [
              "[<matplotlib.lines.Line2D at 0x7ca7a62abe50>]"
            ]
          },
          "metadata": {},
          "execution_count": 31
        },
        {
          "output_type": "display_data",
          "data": {
            "text/plain": [
              "<Figure size 640x480 with 1 Axes>"
            ],
            "image/png": "[encoded data removed]"
          },
          "metadata": {}
        }
      ]
    }
  ]
}